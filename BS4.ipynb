{
  "metadata": {
    "kernelspec": {
      "language": "python",
      "display_name": "Python 3",
      "name": "python3"
    },
    "language_info": {
      "pygments_lexer": "ipython3",
      "nbconvert_exporter": "python",
      "version": "3.6.4",
      "file_extension": ".py",
      "codemirror_mode": {
        "name": "ipython",
        "version": 3
      },
      "name": "python",
      "mimetype": "text/x-python"
    },
    "colab": {
      "name": "BS4.ipynb",
      "provenance": []
    }
  },
  "nbformat_minor": 0,
  "nbformat": 4,
  "cells": [
    {
      "cell_type": "markdown",
      "source": [
        "## Importing modules\n",
        "**[Request](https://requests.readthedocs.io/en/master/)** Module is used to get the HTML code for the URL given.\n",
        "\n",
        "**Note**: *Not all webpages can be requested. For example most social media does not allow to scrape data due to privacy issues. These pages require special access of Developer APIs to scrape data.*"
      ],
      "metadata": {
        "id": "PQ9Z5OVU9RkS"
      }
    },
    {
      "cell_type": "code",
      "source": [
        "import requests \n",
        "from bs4 import BeautifulSoup \n",
        "from tqdm import tqdm"
      ],
      "metadata": {
        "trusted": true,
        "id": "gPwpz2gm9RkU"
      },
      "execution_count": 1,
      "outputs": []
    },
    {
      "cell_type": "markdown",
      "source": [
        "## Setting variables"
      ],
      "metadata": {
        "id": "Oo9zdJGS9RkW"
      }
    },
    {
      "cell_type": "code",
      "source": [
        "URL = \"https://beststartup.asia/68-top-indonesia-automotive-companies-and-startups-of-2021/\""
      ],
      "metadata": {
        "trusted": true,
        "id": "HUvhxpyD9RkX"
      },
      "execution_count": 2,
      "outputs": []
    },
    {
      "cell_type": "markdown",
      "source": [
        "### Requesting desired Webpage"
      ],
      "metadata": {
        "id": "TgNEFA5f9RkZ"
      }
    },
    {
      "cell_type": "code",
      "source": [
        "r = requests.get(URL)    \n",
        "soup = BeautifulSoup(r.content, 'html.parser') \n",
        "print(soup.prettify()[6000:7000])"
      ],
      "metadata": {
        "trusted": true,
        "colab": {
          "base_uri": "https://localhost:8080/"
        },
        "id": "1v-dVdJb9Rka",
        "outputId": "f9f3df2c-55b4-4f07-b177-e233058fd586"
      },
      "execution_count": 3,
      "outputs": [
        {
          "output_type": "stream",
          "name": "stdout",
          "text": [
            "\"inLanguage\":\"en-US\",\"isPartOf\":{\"@id\":\"https:\\/\\/beststartup.asia\\/#website\"},\"breadcrumb\":{\"@id\":\"https:\\/\\/beststartup.asia\\/68-top-indonesia-automotive-companies-and-startups-of-2021\\/#breadcrumblist\"},\"author\":\"https:\\/\\/beststartup.asia\\/author\\/mark-fitz\\/#author\",\"creator\":\"https:\\/\\/beststartup.asia\\/author\\/mark-fitz\\/#author\",\"image\":{\"@type\":\"ImageObject\",\"@id\":\"https:\\/\\/beststartup.asia\\/#mainImage\",\"url\":\"https:\\/\\/i0.wp.com\\/beststartup.asia\\/wp-content\\/uploads\\/2021\\/06\\/Indonesia.png?fit=1920%2C1036&ssl=1\",\"width\":1920,\"height\":1036},\"primaryImageOfPage\":{\"@id\":\"https:\\/\\/beststartup.asia\\/68-top-indonesia-automotive-companies-and-startups-of-2021\\/#mainImage\"},\"datePublished\":\"2021-06-09T00:28:14+00:00\",\"dateModified\":\"2021-06-09T00:28:14+00:00\"},{\"@type\":\"BlogPosting\",\"@id\":\"https:\\/\\/beststartup.asia\\/68-top-indonesia-automotive-companies-and-startups-of-2021\\/#blogposting\",\"name\":\"68 Top Indonesia Automotive Companies and Startups of 2021 - BestStartup.Asia\",\"des\n"
          ]
        }
      ]
    },
    {
      "cell_type": "markdown",
      "source": [
        "If you're know HTML, this might look familiar.  \n",
        "Next we'll see how to get our data."
      ],
      "metadata": {
        "id": "5mGS-Luo9Rkb"
      }
    },
    {
      "cell_type": "code",
      "source": [
        "# Extracting all review blocks\n",
        "## Note col._2wzgFH.K0kLPL means 3 entities namely 'col', ' _2wzgFH' and 'K0kLPL' \n",
        "## This is written in HTML as 'col _2wzgFH K0kLPL'\n",
        "## This can also be seen in Bullet 3\n",
        "\n",
        "row = soup.find_all('div',attrs={\"class\":\"wp-block-cover__inner-container\"})"
      ],
      "metadata": {
        "trusted": true,
        "id": "PCOH9_nz9Rkd"
      },
      "execution_count": 4,
      "outputs": []
    },
    {
      "cell_type": "code",
      "source": [
        "for x in row:\n",
        "  print (x.find('a', text='Website').get(\"href\"))"
      ],
      "metadata": {
        "colab": {
          "base_uri": "https://localhost:8080/"
        },
        "id": "YEXf4NaAksdq",
        "outputId": "e64b0a2a-0972-4239-a598-387ba51156fd"
      },
      "execution_count": 15,
      "outputs": [
        {
          "output_type": "stream",
          "name": "stdout",
          "text": [
            "https://otoklix.com/\n",
            "http://www.proton.com\n",
            "https://www.belimobilgue.co.id\n",
            "https://tiintiin.id/\n",
            "http://www.astra.co.id\n",
            "http://mobilkamu.com/\n",
            "https://www.oto.com\n",
            "\n",
            "https://swap.id/\n",
            "http://www.karta.id\n",
            "https://imajin.id\n",
            "http://www.gt-tires.com\n",
            "https://www.otobro.com/\n",
            "https://cartalog.id/\n",
            "http://www.rajamobil.com/\n",
            "https://www.carmudi.co.id/\n",
            "http://indoproc.com\n",
            "https://momobil.id/\n",
            "https://www.bajaiapp.com\n",
            "http://www.gettinlow.com/\n",
            "https://www.ptpmj.co.id/\n",
            "https://www.bcamf.co.id/\n",
            "https://id.trapo.asia/\n",
            "http://www.mpmgroup.co.id/\n",
            "https://www.semisena.com/\n",
            "https://www.indoloka.com/\n",
            "https://www.jict.co.id\n",
            "http://www.premy.co.id\n",
            "https://variasimobil.co.id\n",
            "https://www.astra-otoparts.com/\n",
            "http://premikita.com/\n",
            "http://www.superkrane.com/\n",
            "http://mpm-lubricants.com\n",
            "\n",
            "https://www.indomobil.com/\n",
            "http://tripves.com\n",
            "http://www.pengirimanmurah.com\n",
            "http://zainiauto.works/\n",
            "http://www.mobiloka.com/\n",
            "http://www.mobilbekas.co.id/\n",
            "https://www.e-viar.com/\n",
            "http://bpfi.co.id/\n",
            "http://iotomotif.com/\n",
            "\n",
            "http://www.superplanetban.com/\n",
            "http://kiamobil.com\n",
            "http://www.rajakantor.com\n",
            "http://www.forefinger-id.com/\n",
            "https://www.mtf.co.id\n",
            "http://www.nipress.com/\n",
            "http://www.tunasgroup.com/\n",
            "http://www.garudametalindo.com/\n",
            "http://accexpress.co.id/\n",
            "https://www.dealerhondapondokindah.com/\n",
            "http://mizuho-balimor.com/\n",
            "http://www.jogjakartatransport.com\n",
            "http://www.nozomi.co.id/\n",
            "http://at-indonesia.co.id/\n",
            "\n",
            "http://www.multiprimasejahtera.net/\n",
            "https://www.bintangotoglobal.com/\n",
            "https://mpm-rent.com\n",
            "http://otodealers.com/\n",
            "http://www.solusimobil.com\n",
            "http://dapurpacu.com/\n",
            "https://bestteamperfomance.blogspot.com/\n",
            "http://www.panther-wheels.net/\n",
            "http://mobilbaruid.com/\n"
          ]
        }
      ]
    },
    {
      "cell_type": "code",
      "source": [
        "for x in row:\n",
        "  print(x.find('h3').text)"
      ],
      "metadata": {
        "colab": {
          "base_uri": "https://localhost:8080/"
        },
        "id": "YChHwRsBShPk",
        "outputId": "e79c3168-c18e-40fd-e7c6-a49605a487a2"
      },
      "execution_count": 7,
      "outputs": [
        {
          "output_type": "stream",
          "name": "stdout",
          "text": [
            "Otoklix\n",
            "PROTON Holdings\n",
            "BeliMobilGue\n",
            "TiinTiin\n",
            "PT. Astra International Tbk\n",
            "MobilKamu\n",
            "Oto\n",
            "PT Dharmapala Usaha Sukses\n",
            "SWAP\n",
            "PT Karta Indonesia Global\n",
            "imajin\n",
            "PT Gajah Tunggal Tbk\n",
            "Otobro\n",
            "Cartalog\n",
            "Rajamobil\n",
            "Carmudi Indonesia\n",
            "Indoproc\n",
            "Momobil\n",
            "BajaiApp\n",
            "GettinLow\n",
            "Dipo Group\n",
            "BCA Multi Finance\n",
            "Trapo\n",
            "Mitra Pinasthika Mustika\n",
            "Semisena\n",
            "indoloka\n",
            "Jakarta International Container Terminal\n",
            "Premy\n",
            "variasimobil.id\n",
            "Astra Otoparts\n",
            "PremiKita.com\n",
            "Superkrane\n",
            "MPM Lubricants\n",
            "OtoSpector\n",
            "Indomobil Group\n",
            "Tripves\n",
            "CAExpress\n",
            "Zaini Auto Motor\n",
            "Mobiloka\n",
            "Mobil Bekas\n",
            "VIAR electricmotor\n",
            "Batavia Prosperindo Finance\n",
            "Iotomotif\n",
            "PT Gatotkaca Trans Systemindo\n",
            "SUPER PLANET BAN\n",
            "PT KIA Indonesia Motor\n",
            "Raja Kantor\n",
            "Forefinger\n",
            "Mandiri Tunas Finance\n",
            "Nipress\n",
            "Tunas Ridean\n",
            "Garuda Metalindo\n",
            "ACC Express\n",
            "Honda Pondok Indah\n",
            "Mizuho Balimor Finance\n",
            "LintasJogja Transport\n",
            "Nozomi Otomotif\n",
            "AT Indonesia\n",
            "RENTCAR\n",
            "Multi Prima Sejahtera\n",
            "Bintang Oto Global\n",
            "PT Mitra Pinasthika Mustika Rent\n",
            "Otodealers\n",
            "SolusiMobil\n",
            "DapurPacu\n",
            "Best Team Perfomance\n",
            "Prima Alloy Steel\n",
            "MobilBaruID\n"
          ]
        }
      ]
    },
    {
      "cell_type": "code",
      "source": [
        "for x in row:\n",
        "  print(x.find('p').findNext(\"p\").get_text())"
      ],
      "metadata": {
        "colab": {
          "base_uri": "https://localhost:8080/"
        },
        "id": "Rv1knGBAoUJJ",
        "outputId": "b22645c4-74f8-45e3-f48d-f86d497caa60"
      },
      "execution_count": 17,
      "outputs": [
        {
          "output_type": "stream",
          "name": "stdout",
          "text": [
            "Otoklix is a focused Startup on the Automotive aftermarket domain.\n",
            "PROTON Holdings is a manufactures, assembles, and sells motor vehicles.\n",
            "BeliMobilGue operates a platform that enables car owners in Southeast Asian country to sell their vehicle securely online.\n",
            "TiinTiin is a multi-vertical transactional marketplace for used cars and motorcycles.\n",
            "Astra International is a company doing various activities include trading, industrial, mining, transportation, agriculture and construction.\n",
            "MobilKamu is an end-to-end solution for car buyers in Jakarta which combines technology with first-class customer service.\n",
            "CarBay is now Oto.com in Indonesia. Oto.com is Indonesia’s new cars research platform.\n",
            "PT Dharmapala Usaha Sukses is a sugar refinery based in Indonesia.\n",
            "SWAP is a brand of swappable battery product for e-motorcycles.\n",
            "PT Karta Indonesia Global is a marketing company that provides customized advertising services on motorcycles.\n",
            "Imajin is a manufacturing Hub Indonesia appointed by Ministry of Industry, as one step solution for your manufacturing needs\n",
            "PT Gajah Tunggal Tbk., an associate company of Giti Tire and the largest Indonesian tire manufacturer.\n",
            "Otobro is an Indonesia-based site that helps people decide which car or motorcycle to buy and what types of financing are available.\n",
            "Cartalog merupakan platform marketplace mobil yang menggunakan teknologi revolusioner AI (Artificial Intelligence)\n",
            "RajaMobil.com is an online car portal that enables site visitors to trade used and new cars.\n",
            "Carmudi Indonesia is an online marketplace for new and used cars and motorcycles.\n",
            "INDOPROC has a team of specialists in sourcing and supply chain matters.\n",
            "Momobil is an automotive company located in Jakarta Pusat.\n",
            "BajaiApp is the leading auto rickshaw hailing app that provides solution for transportation and logistics needs in Indonesia.\n",
            "GettinLow is an automotive lifestyle company located in Jakarta.\n",
            "Dipo Group is a car dealer and rental company.\n",
            "BCA Multi Finance engages in the financing of two-wheeled, four-wheeled, and multi-purpose vehicles.\n",
            "Trapo Indonesia provides custom-made car mats for your car’s unique shape.\n",
            "Mitra Pinasthika Mustika offers transportation products and services.\n",
            "Semisena is a internet automotive company located in Yogyakarta.\n",
            "Largest Online Car Rental in Indonesia.\n",
            "Jakarta International Container Terminal.\n",
            "Premy is a car insurance services provider based in Indonesia.\n",
            "variasimobil.id is digital shopping for accesories and car modification\n",
            "Astra Otoparts is a manufacturer of automotive parts.\n",
            "Premikita.com is the first and most comprehensive car insurance comparison site in Indonesia.\n",
            "Superkrane engages in renting and trading of cranes.\n",
            "MPM Lubricants is a leading consumer automotive companies that continuously making great stride in Indonesia.\n",
            "OtoSpector is an online platform that provides car assessment services.\n",
            "Indomobil Group is an automotive component manufacturing company.\n",
            "Peer to Peer Car Sharing Marketplace\n",
            "CAExpress – Perusahaan Jasa Pindahan, Pengiriman, Trucking Antar Pulau Profesional & Handal\n",
            "Zaini Auto Motor is an automotive company located in Sukoharjo.\n",
            "Mobiloka is a automotive company located in Setiabudi.\n",
            "Mobil Bekas is a automotive online portals company located in Kediri City.\n",
            "VIAR electricmotor is a electric vehicle company located in Utara.\n",
            "Batavia Prosperindo Finance engages in consumer financing for automobiles.\n",
            "Online magazine for all in one automotive.\n",
            "PT Gatotkaca Trans Systemindo provides integrated logistic services.\n",
            "SUPER PLANET BAN is an automotive company located in Depok.\n",
            "PT KIA Indonesia Motor is a car dealership specializing in Kia cars.\n",
            "Raja Kantor is a complete office peraatan distributor, supply all office need products.\n",
            "Forefinger is a automotive smart home solution company located in Kalideres.\n",
            "Mandiri Tunas Finance engages in vehicle financing service.\n",
            "Nipress was founded in November 1970. We are producing the widest range of product of automobile batteries, motorcycle batteries.\n",
            "Tunas Ridean is an automotive company.\n",
            "Garuda Metalindo is a manufacturer of precision fasteners and engineered components.\n",
            "ACC Express is a logistics company located in Petukangan Utara.\n",
            "Authorized dealer of Honda automobiles in South Jakarta\n",
            "Mizuho Balimor Finance is a financial services automotive company located in Daerah Khusus Ibukota.\n",
            "LintasJogja Transport melayani Sewa Mobil Jogja termasuk sopir. Armada yang kami sediakan lengkap dalam kondisi bagus.\n",
            "Nozomi Otomotif is a automotive logistics company located in Gambir.\n",
            "AT Indonesia manufactures casting and machining products for automotive and non-automotive industries.\n",
            "Car-sharing service: car rents for in-city trips with minute/hour charge. The service allows to save money on the cost of money owning.\n",
            "Multi Prima Sejahtera is an automobile parts manufacturing company.\n",
            "Bintang Oto Global is an automotive company.\n",
            "PT Mitra Pinasthika Mustika Rent offers automotive rental and driver services.\n",
            "Otodealers is a automotive company located in Selatan Jakarta.\n",
            "SolusiMobil – Solusi Cerdas Informasi Otomotif\n",
            "DapurPacu publishes an online magazine that talks about automotive and motor vehicles.\n",
            "Best Team Perfomance is an advertising company located in South Jakarta.\n",
            "Prima Alloy Steel engages in the industry of four-wheeled motorized vehicle wheels made of aluminum alloy.\n",
            "MobilBaruID offers easy way to buy new car in Indonesia. Anyone can browse and purchase a new car online easily.\n"
          ]
        }
      ]
    },
    {
      "cell_type": "code",
      "source": [
        "# list to store data\n",
        "dataset = []\n",
        "\n",
        "# iteration over all blocks\n",
        "for x in row: \n",
        "            \n",
        "    # extracting text from 1st and 2nd row\n",
        "    Company = x.find('h3').text\n",
        "    Description = x.find('p').findNext(\"p\").get_text()\n",
        "    Website = x.find('a', text='Website').get(\"href\")\n",
        "    \n",
        "    # appending to data\n",
        "    dataset.append({'Company': Company , 'Description' : Description, 'Website' : Website})\n",
        "\n",
        "dataset[:5]"
      ],
      "metadata": {
        "colab": {
          "base_uri": "https://localhost:8080/"
        },
        "id": "8T5FXOUeoj35",
        "outputId": "bced0c2e-6b0b-41ff-f8ca-c0c3c2fa6020"
      },
      "execution_count": 18,
      "outputs": [
        {
          "output_type": "execute_result",
          "data": {
            "text/plain": [
              "[{'Company': 'Otoklix',\n",
              "  'Description': 'Otoklix is a focused Startup on the Automotive aftermarket domain.',\n",
              "  'Website': 'https://otoklix.com/'},\n",
              " {'Company': 'PROTON Holdings',\n",
              "  'Description': 'PROTON Holdings is a manufactures, assembles, and sells motor vehicles.',\n",
              "  'Website': 'http://www.proton.com'},\n",
              " {'Company': 'BeliMobilGue',\n",
              "  'Description': 'BeliMobilGue operates a platform that enables car owners in Southeast Asian country to sell their vehicle securely online.',\n",
              "  'Website': 'https://www.belimobilgue.co.id'},\n",
              " {'Company': 'TiinTiin',\n",
              "  'Description': 'TiinTiin is a multi-vertical transactional marketplace for used cars and motorcycles.',\n",
              "  'Website': 'https://tiintiin.id/'},\n",
              " {'Company': 'PT. Astra International Tbk',\n",
              "  'Description': 'Astra International is a company doing various activities include trading, industrial, mining, transportation, agriculture and construction.',\n",
              "  'Website': 'http://www.astra.co.id'}]"
            ]
          },
          "metadata": {},
          "execution_count": 18
        }
      ]
    }
  ]
}